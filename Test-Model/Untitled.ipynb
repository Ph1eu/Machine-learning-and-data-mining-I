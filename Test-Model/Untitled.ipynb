{
 "cells": [
  {
   "cell_type": "code",
   "execution_count": 1,
   "metadata": {},
   "outputs": [],
   "source": [
    "import tensorflow as tf\n",
    "from tensorflow import keras\n",
    "from tensorflow.keras.preprocessing.image import load_img\n",
    "from tensorflow.keras.preprocessing.image import img_to_array\n",
    "import matplotlib.pyplot as plt\n",
    "one_layer_path = \"../Logistic-Regression-Model/GPU-1k5e-Onelayer-deepneural/model/one-layer-model\"\n",
    "image_path = \"./image-test/forest.jpg\"\n",
    "one_layer_logisreg_model= keras.models.load_model(one_layer_path)\n"
   ]
  },
  {
   "cell_type": "code",
   "execution_count": 2,
   "metadata": {},
   "outputs": [
    {
     "name": "stdout",
     "output_type": "stream",
     "text": [
      "Model: \"sequential\"\n",
      "_________________________________________________________________\n",
      " Layer (type)                Output Shape              Param #   \n",
      "=================================================================\n",
      " flatten (Flatten)           (None, 3072)              0         \n",
      "                                                                 \n",
      " dense (Dense)               (None, 550)               1690150   \n",
      "                                                                 \n",
      " dropout (Dropout)           (None, 550)               0         \n",
      "                                                                 \n",
      " batch_normalization (BatchN  (None, 550)              2200      \n",
      " ormalization)                                                   \n",
      "                                                                 \n",
      " dense_1 (Dense)             (None, 100)               55100     \n",
      "                                                                 \n",
      "=================================================================\n",
      "Total params: 1,747,450\n",
      "Trainable params: 1,746,350\n",
      "Non-trainable params: 1,100\n",
      "_________________________________________________________________\n"
     ]
    }
   ],
   "source": [
    "one_layer_logisreg_model.summary()"
   ]
  },
  {
   "cell_type": "code",
   "execution_count": 3,
   "metadata": {},
   "outputs": [],
   "source": [
    "def load_image(filename):\n",
    "    # load the image\n",
    "    img = load_img(filename, target_size=(32, 32))\n",
    "    # convert to array\n",
    "    img = img_to_array(img)\n",
    "    # reshape into a single sample with 3 channels\n",
    "    img = img.reshape(1, 32, 32, 3)\n",
    "    # prepare pixel data\n",
    "    img = img.astype('float32')\n",
    "    img = img / 255.0\n",
    "    return img\n",
    "def load_image_raw(filename):\n",
    "    # load the image\n",
    "    img = load_img(filename, target_size=(32, 32))\n",
    "    img = img_to_array(img)\n",
    "    # reshape into a single sample with 3 channels\n",
    "    img = img.reshape( 32, 32, 3)\n",
    "    img = img.astype('int32')\n",
    "    return img"
   ]
  },
  {
   "cell_type": "code",
   "execution_count": 4,
   "metadata": {},
   "outputs": [
    {
     "data": {
      "text/plain": [
       "<matplotlib.image.AxesImage at 0x7f6b21a5e190>"
      ]
     },
     "execution_count": 4,
     "metadata": {},
     "output_type": "execute_result"
    },
    {
     "data": {
      "image/png": "[encoded data removed]",
      "text/plain": [
       "<Figure size 432x288 with 1 Axes>"
      ]
     },
     "metadata": {
      "needs_background": "light"
     },
     "output_type": "display_data"
    }
   ],
   "source": [
    "img_raw = load_image_raw(image_path)\n",
    "plt.imshow(img_raw)"
   ]
  },
  {
   "cell_type": "code",
   "execution_count": 5,
   "metadata": {},
   "outputs": [],
   "source": [
    "list_label = ['apple', 'aquarium_fish', 'baby', 'bear', 'beaver', 'bed', 'bee', 'beetle', 'bicycle', 'bottle', 'bowl', 'boy', 'bridge', 'bus', 'butterfly', 'camel', 'can', 'castle', 'caterpillar', 'cattle', 'chair', 'chimpanzee', 'clock', 'cloud', 'cockroach', 'couch', 'crab', 'crocodile', 'cup', 'dinosaur', 'dolphin', 'elephant', 'flatfish', 'forest', 'fox', 'girl', 'hamster', 'house', 'kangaroo', 'keyboard', 'lamp', 'lawn_mower', 'leopard', 'lion', 'lizard', 'lobster', 'man', 'maple_tree', 'motorcycle', 'mountain', 'mouse', 'mushroom', 'oak_tree', 'orange', 'orchid', 'otter', 'palm_tree', 'pear', 'pickup_truck', 'pine_tree', 'plain', 'plate', 'poppy', 'porcupine', 'possum', 'rabbit', 'raccoon', 'ray', 'road', 'rocket', 'rose', 'sea', 'seal', 'shark', 'shrew', 'skunk', 'skyscraper', 'snail', 'snake', 'spider', 'squirrel', 'streetcar', 'sunflower', 'sweet_pepper', 'table', 'tank', 'telephone', 'television', 'tiger', 'tractor', 'train', 'trout', 'tulip', 'turtle', 'wardrobe', 'whale', 'willow_tree', 'wolf', 'woman', 'worm']\n"
   ]
  },
  {
   "cell_type": "code",
   "execution_count": 46,
   "metadata": {},
   "outputs": [
    {
     "name": "stdout",
     "output_type": "stream",
     "text": [
      "<class 'numpy.ndarray'>\n",
      "[[[[0.4117647  0.5921569  0.07450981]\n",
      "   [0.41568628 0.5764706  0.11372549]\n",
      "   [0.4117647  0.54901963 0.1882353 ]\n",
      "   ...\n",
      "   [0.5921569  0.7058824  0.27450982]\n",
      "   [0.4117647  0.5137255  0.22352941]\n",
      "   [0.39215687 0.48235294 0.2627451 ]]\n",
      "\n",
      "  [[0.36862746 0.54901963 0.03137255]\n",
      "   [0.3882353  0.54901963 0.08627451]\n",
      "   [0.3764706  0.5137255  0.15294118]\n",
      "   ...\n",
      "   [0.56078434 0.6901961  0.24705882]\n",
      "   [0.37254903 0.4745098  0.18431373]\n",
      "   [0.28627452 0.3764706  0.15686275]]\n",
      "\n",
      "  [[0.4627451  0.627451   0.1254902 ]\n",
      "   [0.4392157  0.59607846 0.14509805]\n",
      "   [0.36078432 0.49803922 0.13725491]\n",
      "   ...\n",
      "   [0.58431375 0.7137255  0.27058825]\n",
      "   [0.4117647  0.5137255  0.22352941]\n",
      "   [0.20392157 0.3019608  0.07450981]]\n",
      "\n",
      "  ...\n",
      "\n",
      "  [[0.07058824 0.22352941 0.01568628]\n",
      "   [0.18039216 0.3254902  0.12156863]\n",
      "   [0.23921569 0.36862746 0.18431373]\n",
      "   ...\n",
      "   [0.12941177 0.28235295 0.06666667]\n",
      "   [0.08627451 0.23137255 0.05882353]\n",
      "   [0.1882353  0.3372549  0.1764706 ]]\n",
      "\n",
      "  [[0.11764706 0.2627451  0.0627451 ]\n",
      "   [0.23137255 0.37254903 0.18431373]\n",
      "   [0.17254902 0.3019608  0.13333334]\n",
      "   ...\n",
      "   [0.13725491 0.2901961  0.07450981]\n",
      "   [0.16470589 0.30980393 0.13725491]\n",
      "   [0.15686275 0.30588236 0.14509805]]\n",
      "\n",
      "  [[0.05098039 0.19215687 0.00392157]\n",
      "   [0.20784314 0.34901962 0.16862746]\n",
      "   [0.09803922 0.22745098 0.05882353]\n",
      "   ...\n",
      "   [0.19607843 0.34901962 0.13333334]\n",
      "   [0.27058825 0.41568628 0.24313726]\n",
      "   [0.10588235 0.25490198 0.09411765]]]]\n",
      "1/1 [==============================] - 0s 24ms/step\n",
      "tulip\n"
     ]
    }
   ],
   "source": [
    "img = load_image(image_path)\n",
    "print(type(img))\n",
    "print(img)\n",
    "result = one_layer_logisreg_model.predict(img)\n",
    "res = result[0].tolist()\n",
    "print(list_label[res.index(max(res))])\n"
   ]
  },
  {
   "cell_type": "code",
   "execution_count": 15,
   "metadata": {},
   "outputs": [],
   "source": [
    "train = \"../data/train\"\n",
    "from keras.datasets.cifar import load_batch\n",
    "import numpy as np\n"
   ]
  },
  {
   "cell_type": "code",
   "execution_count": 18,
   "metadata": {},
   "outputs": [],
   "source": [
    "\n",
    "def unpickle(file):\n",
    "    import pickle\n",
    "    with open(file, 'rb') as fo:\n",
    "        dict = pickle.load(fo, encoding='latin1')\n",
    "    return dict\n"
   ]
  },
  {
   "cell_type": "code",
   "execution_count": 23,
   "metadata": {},
   "outputs": [],
   "source": [
    "train_data = unpickle(train)"
   ]
  },
  {
   "cell_type": "code",
   "execution_count": 190,
   "metadata": {},
   "outputs": [
    {
     "data": {
      "text/plain": [
       "<matplotlib.image.AxesImage at 0x7f6b08cbcac0>"
      ]
     },
     "execution_count": 190,
     "metadata": {},
     "output_type": "execute_result"
    },
    {
     "data": {
      "image/png": "[encoded data removed]",
      "text/plain": [
       "<Figure size 432x288 with 1 Axes>"
      ]
     },
     "metadata": {
      "needs_background": "light"
     },
     "output_type": "display_data"
    }
   ],
   "source": [
    "test_train_data=train_data['data'][960].reshape(3,32,32)\n",
    "test_train_data = test_train_data.transpose(1,2,0)\n",
    "plt.imshow(test_train_data)"
   ]
  },
  {
   "cell_type": "code",
   "execution_count": 192,
   "metadata": {},
   "outputs": [],
   "source": [
    "test_data = train_data['data'][960].reshape(1,3,32,32)\n",
    "test_data = test_data.transpose(0,2,3,1)\n",
    "test_data = test_data.astype('float32')\n",
    "test_data = test_data / 255.0"
   ]
  },
  {
   "cell_type": "code",
   "execution_count": 193,
   "metadata": {},
   "outputs": [
    {
     "name": "stdout",
     "output_type": "stream",
     "text": [
      "1/1 [==============================] - 0s 26ms/step\n",
      "tulip\n"
     ]
    }
   ],
   "source": [
    "result2 = one_layer_logisreg_model.predict(test_data)\n",
    "res2=result2[0].tolist()\n",
    "print(list_label[res2.index(max(res2))])\n"
   ]
  },
  {
   "cell_type": "code",
   "execution_count": null,
   "metadata": {},
   "outputs": [],
   "source": []
  }
 ],
 "metadata": {
  "kernelspec": {
   "display_name": "Python 3",
   "language": "python",
   "name": "python3"
  },
  "language_info": {
   "codemirror_mode": {
    "name": "ipython",
    "version": 3
   },
   "file_extension": ".py",
   "mimetype": "text/x-python",
   "name": "python",
   "nbconvert_exporter": "python",
   "pygments_lexer": "ipython3",
   "version": "3.8.10"
  }
 },
 "nbformat": 4,
 "nbformat_minor": 4
}
