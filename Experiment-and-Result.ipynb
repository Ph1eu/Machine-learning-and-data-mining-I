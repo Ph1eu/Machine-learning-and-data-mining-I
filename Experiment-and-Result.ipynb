{
 "cells": [
  {
   "cell_type": "markdown",
   "metadata": {},
   "source": [
    "# Experiment on models and result\n",
    "\n",
    "This is primary notebook for defining model,showing training history and result "
   ]
  },
  {
   "cell_type": "markdown",
   "metadata": {},
   "source": [
    "# Table of contents\n",
    "\n",
    "- [1 - Packages](#1)\n",
    "    - [additional keras import](#1_1)\n",
    "- [2 - Load and Preprocess data](#2)\n",
    "    - [Load data](#2_1)\n",
    "    - [Preprocess data](#2_2)\n",
    "    - [Data augmentation](#2_3)\n",
    "- [3 - Define model](#3)\n",
    "    - [logistic Regression(Softmax)](#3_1)\n",
    "    - [Convolutional NN (VGG architecture)](#3_2)\n",
    "- [4 - Testing Model](#4)\n",
    "- [5 - Conclusion](#5)"
   ]
  },
  {
   "cell_type": "markdown",
   "metadata": {},
   "source": [
    "<a name='1'></a>\n",
    "# 1 - Packages\n",
    "\n",
    "\n",
    "- numpy is the fundamental package for scientific computing with Python.\n",
    "- matplotlib is a library for plotting graphs in Python.\n",
    "- tensorflow is a common library for defining model \n",
    "- util is a module for additional function "
   ]
  },
  {
   "cell_type": "code",
   "execution_count": null,
   "metadata": {},
   "outputs": [],
   "source": [
    "import tensorflow as tf \n",
    "import matplotlib.pyplot as plt\n",
    "from tensorflow import keras\n",
    "sys.path.insert(0,\"./utils\")\n",
    "import util\n",
    "import numpy as np\n",
    "from tensorflow import keras\n"
   ]
  },
  {
   "cell_type": "markdown",
   "metadata": {},
   "source": [
    "<a name='1_1'></a>\n",
    "### Additional keras import"
   ]
  },
  {
   "cell_type": "code",
   "execution_count": null,
   "metadata": {},
   "outputs": [],
   "source": [
    "from keras.datasets.cifar import load_batch\n",
    "from tensorflow.keras.utils import to_categorical\n",
    "from keras.models import Sequential\n",
    "from keras.layers import Conv2D\n",
    "from keras.layers import MaxPooling2D\n",
    "from keras.layers import Dense\n",
    "from keras.layers import Flatten\n",
    "from keras.layers import Activation\n",
    "from keras.layers import Dropout\n",
    "from keras.layers import BatchNormalization\n",
    "from keras.preprocessing.image import ImageDataGenerator\n",
    "from keras import layers\n",
    "from keras import backend\n"
   ]
  },
  {
   "cell_type": "markdown",
   "metadata": {},
   "source": [
    "<a name='2'></a>\n",
    "# 2 - Load and Preprocess data\n"
   ]
  },
  {
   "cell_type": "markdown",
   "metadata": {},
   "source": [
    "<a name=\"2_1\"></a>\n",
    "### Load data"
   ]
  },
  {
   "cell_type": "code",
   "execution_count": null,
   "metadata": {},
   "outputs": [],
   "source": [
    "input_shape = (32, 32, 3)\n",
    "\n",
    "x_train, y_train = load_batch(\"../input/cifar100/train\", label_key=\"fine_labels\")\n",
    "x_test, y_test = load_batch(\"../input/cifar100/test\", label_key=\"fine_labels\")\n",
    "x_train , x_val = x_train[0:45000,:,:,:],x_train[45000:50000,:,:,:]\n",
    "y_train , y_val = y_train[0:45000],y_train[45000:50000]\n",
    "                                        \n",
    "y_train = np.reshape(y_train, (len(y_train), 1))\n",
    "y_test = np.reshape(y_test, (len(y_test), 1))\n",
    "y_val = np.reshape(y_val, (len(y_val), 1))\n",
    "if backend.image_data_format() == \"channels_last\":\n",
    "  x_train = x_train.transpose(0, 2, 3, 1)\n",
    "  x_test = x_test.transpose(0, 2, 3, 1)\n",
    "  x_val = x_val.transpose(0, 2, 3, 1)\n",
    "\n",
    "print(f\"cifar100 loaded\")\n",
    "print(type(x_train[:1]))\n",
    "print(f\"x_train shape: {x_train.shape} - y_train shape: {y_train.shape}\")\n",
    "print(f\"x_test shape: {x_test.shape} - y_test shape: {y_test.shape}\")\n",
    "print(f\"x_val shape: {x_val.shape} - y_val shape: {y_val.shape}\")\n"
   ]
  },
  {
   "cell_type": "markdown",
   "metadata": {},
   "source": [
    "<a name=\"2_2\"></a>\n",
    "### Preprocess data\n",
    "\n",
    "    - Change type of data to float\n",
    "    - Convert pixels to (0,1) scale\n",
    "    - Perform one-hot encoding \n",
    "    "
   ]
  },
  {
   "cell_type": "code",
   "execution_count": null,
   "metadata": {},
   "outputs": [],
   "source": [
    "x_train = x_train.astype('float32')\n",
    "x_test = x_test.astype('float32')\n",
    "x_train, x_test,x_val = x_train / 255, x_test / 255, x_val/255\n",
    "y_train = to_categorical(y_train)\n",
    "y_val = to_categorical(y_val)\n",
    "y_test = to_categorical(y_test)"
   ]
  },
  {
   "cell_type": "markdown",
   "metadata": {},
   "source": [
    "<a name=\"2_3\"></a>\n",
    "### Data Augmentation\n"
   ]
  },
  {
   "cell_type": "code",
   "execution_count": null,
   "metadata": {},
   "outputs": [],
   "source": [
    "datagen = ImageDataGenerator(width_shift_range=0.1, height_shift_range=0.1, horizontal_flip=True)\n",
    "it_train = datagen.flow(x_train, y_train, batch_size=64)\n",
    "steps = int(x_train.shape[0] / 64)"
   ]
  },
  {
   "cell_type": "markdown",
   "metadata": {},
   "source": [
    "<a name='3'></a>\n",
    "# 3 - Define model\n",
    "\n",
    "We define model using keras and set parameters by intuition based one these two book :\n",
    "\n",
    "    - Introduction to Neural Networks for Java (second edition) by Jeff Heaton \n",
    "    - Practical Neural Network Recipes in C++\n",
    "All the models in this section has been tuned so we dont describe tuning phase of model\n"
   ]
  },
  {
   "cell_type": "markdown",
   "metadata": {},
   "source": [
    "<a name=\"3_2\"></a>\n",
    "### Convolutional Neural Network (VGG architecture)\n",
    "<img src=\"./images/VGG.png\" />"
   ]
  },
  {
   "cell_type": "code",
   "execution_count": null,
   "metadata": {},
   "outputs": [],
   "source": []
  }
 ],
 "metadata": {
  "kernelspec": {
   "display_name": "Python 3",
   "language": "python",
   "name": "python3"
  },
  "language_info": {
   "codemirror_mode": {
    "name": "ipython",
    "version": 3
   },
   "file_extension": ".py",
   "mimetype": "text/x-python",
   "name": "python",
   "nbconvert_exporter": "python",
   "pygments_lexer": "ipython3",
   "version": "3.8.10"
  }
 },
 "nbformat": 4,
 "nbformat_minor": 4
}
